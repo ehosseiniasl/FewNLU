{
 "cells": [
  {
   "cell_type": "code",
   "execution_count": 16,
   "id": "a18cfa65",
   "metadata": {},
   "outputs": [],
   "source": [
    "import json\n",
    "import os\n",
    "import random\n",
    "from glob import glob"
   ]
  },
  {
   "cell_type": "code",
   "execution_count": 15,
   "id": "a24dafba",
   "metadata": {},
   "outputs": [
    {
     "name": "stdout",
     "output_type": "stream",
     "text": [
      "\u001b[0m\u001b[01;34mBoolQ\u001b[0m/  \u001b[01;34mCB\u001b[0m/  \u001b[01;34mCOPA\u001b[0m/  \u001b[01;34mMultiRC\u001b[0m/  README.md  \u001b[01;34mReCoRD\u001b[0m/  \u001b[01;34mRTE\u001b[0m/  \u001b[01;34mWiC\u001b[0m/  \u001b[01;34mWSC\u001b[0m/\r\n"
     ]
    }
   ],
   "source": [
    "ls /export/home/data/FewGLUE_v2/"
   ]
  },
  {
   "cell_type": "code",
   "execution_count": 19,
   "id": "a4871319",
   "metadata": {},
   "outputs": [],
   "source": [
    "listdir = glob('/export/home/data/FewGLUE_v2/*/')"
   ]
  },
  {
   "cell_type": "code",
   "execution_count": 4,
   "id": "a0fef58b",
   "metadata": {},
   "outputs": [],
   "source": [
    "with open('/export/home/data/FewGLUE_v2/BoolQ/train.jsonl') as f:\n",
    "    data = [json.loads(line) for line in f]"
   ]
  },
  {
   "cell_type": "code",
   "execution_count": 6,
   "id": "4cf88204",
   "metadata": {},
   "outputs": [
    {
     "data": {
      "text/plain": [
       "{'question': 'is ghost in the shell based on the anime',\n",
       " 'passage': \"Ghost in the Shell -- Animation studio Production I.G has produced several different anime adaptations of Ghost in the Shell, starting with the 1995 film of the same name, telling the story of Section 9's investigation of the Puppet Master. The television series Ghost in the Shell: Stand Alone Complex followed in 2002, telling an alternate story from the manga and first film, featuring Section 9's investigations of government corruption in the Laughing Man and Individual Eleven incidents. A sequel to the 1995 film, Ghost in the Shell 2: Innocence, was released in 2004. In 2006, the film Ghost in the Shell: Stand Alone Complex - Solid State Society retook the story of the television series. 2013 saw the start of the Ghost in the Shell: Arise original video animation (OVA) series, consisting of four parts through mid-2014. The series was recompiled in early 2015 as a television series titled Ghost in the Shell: Arise - Alternative Architecture, airing with an additional two episodes (one part). An animated feature film produced by most of the Arise staff, titled Ghost in the Shell: The New Movie, was released on June 20, 2015. A live-action American film of the same name was released on March 31, 2017.\",\n",
       " 'idx': 7457,\n",
       " 'label': False}"
      ]
     },
     "execution_count": 6,
     "metadata": {},
     "output_type": "execute_result"
    }
   ],
   "source": [
    "data[0]"
   ]
  },
  {
   "cell_type": "code",
   "execution_count": 7,
   "id": "9bac9cc4",
   "metadata": {},
   "outputs": [
    {
     "data": {
      "text/plain": [
       "dict_keys(['question', 'passage', 'idx', 'label'])"
      ]
     },
     "execution_count": 7,
     "metadata": {},
     "output_type": "execute_result"
    }
   ],
   "source": [
    "data[0].keys()"
   ]
  },
  {
   "cell_type": "code",
   "execution_count": 8,
   "id": "f032295b",
   "metadata": {},
   "outputs": [
    {
     "data": {
      "text/plain": [
       "{'question': 'is there gonna be a season 8 of the walking dead',\n",
       " 'passage': 'The Walking Dead (season 8) -- The eighth season of The Walking Dead, an American post-apocalyptic horror television series on AMC, premiered on October 22, 2017, and concluded on April 15, 2018, consisting of 16 episodes. Developed for television by Frank Darabont, the series is based on the eponymous series of comic books by Robert Kirkman, Tony Moore, and Charlie Adlard. The executive producers are Kirkman, David Alpert, Scott M. Gimple, Greg Nicotero, Tom Luse, and Gale Anne Hurd, with Gimple as showrunner for his fifth and final season. The eighth season received positive reviews from critics. It was nominated for multiple awards and won two, including Best Horror Television Series for the third consecutive year, at the 44th Saturn Awards.',\n",
       " 'idx': 7496,\n",
       " 'label': True}"
      ]
     },
     "execution_count": 8,
     "metadata": {},
     "output_type": "execute_result"
    }
   ],
   "source": [
    "data[1]"
   ]
  },
  {
   "cell_type": "code",
   "execution_count": 11,
   "id": "2c6ec6fc",
   "metadata": {},
   "outputs": [
    {
     "data": {
      "text/plain": [
       "[{'label': True,\n",
       "  'question': 'did mark on roseanne die in real life',\n",
       "  'idx': 7132,\n",
       "  'passage': \"Glenn Quinn -- Glenn Martin Christopher Francis Quinn (May 28, 1970 -- December 3, 2002) was an Irish actor. While he was best known for his portrayal of Mark Healy on the popular '90s family sitcom Roseanne, Quinn also amassed a large fan base for his portrayal of Doyle, a half-demon, on Angel, a spin-off series of Buffy the Vampire Slayer.\"}]"
      ]
     },
     "execution_count": 11,
     "metadata": {},
     "output_type": "execute_result"
    }
   ],
   "source": [
    "random.sample(data, 1)"
   ]
  },
  {
   "cell_type": "code",
   "execution_count": 32,
   "id": "d519cfaf",
   "metadata": {
    "scrolled": true
   },
   "outputs": [
    {
     "name": "stdout",
     "output_type": "stream",
     "text": [
      "/export/home/data/FewGLUE_v2/WiC/\n",
      "writing /export/home/data/FewGLUE_v2/WiC/train_4.jsonl\n",
      "writing /export/home/data/FewGLUE_v2/WiC/train_8.jsonl\n",
      "writing /export/home/data/FewGLUE_v2/WiC/train_16.jsonl\n",
      "writing /export/home/data/FewGLUE_v2/WiC/train_32.jsonl\n",
      "/export/home/data/FewGLUE_v2/COPA/\n",
      "writing /export/home/data/FewGLUE_v2/COPA/train_4.jsonl\n",
      "writing /export/home/data/FewGLUE_v2/COPA/train_8.jsonl\n",
      "writing /export/home/data/FewGLUE_v2/COPA/train_16.jsonl\n",
      "writing /export/home/data/FewGLUE_v2/COPA/train_32.jsonl\n",
      "/export/home/data/FewGLUE_v2/CB/\n",
      "writing /export/home/data/FewGLUE_v2/CB/train_4.jsonl\n",
      "writing /export/home/data/FewGLUE_v2/CB/train_8.jsonl\n",
      "writing /export/home/data/FewGLUE_v2/CB/train_16.jsonl\n",
      "writing /export/home/data/FewGLUE_v2/CB/train_32.jsonl\n",
      "/export/home/data/FewGLUE_v2/MultiRC/\n",
      "writing /export/home/data/FewGLUE_v2/MultiRC/train_4.jsonl\n",
      "writing /export/home/data/FewGLUE_v2/MultiRC/train_8.jsonl\n",
      "writing /export/home/data/FewGLUE_v2/MultiRC/train_16.jsonl\n",
      "writing /export/home/data/FewGLUE_v2/MultiRC/train_32.jsonl\n",
      "/export/home/data/FewGLUE_v2/RTE/\n",
      "writing /export/home/data/FewGLUE_v2/RTE/train_4.jsonl\n",
      "writing /export/home/data/FewGLUE_v2/RTE/train_8.jsonl\n",
      "writing /export/home/data/FewGLUE_v2/RTE/train_16.jsonl\n",
      "writing /export/home/data/FewGLUE_v2/RTE/train_32.jsonl\n",
      "/export/home/data/FewGLUE_v2/BoolQ/\n",
      "writing /export/home/data/FewGLUE_v2/BoolQ/train_4.jsonl\n",
      "writing /export/home/data/FewGLUE_v2/BoolQ/train_8.jsonl\n",
      "writing /export/home/data/FewGLUE_v2/BoolQ/train_16.jsonl\n",
      "writing /export/home/data/FewGLUE_v2/BoolQ/train_32.jsonl\n",
      "/export/home/data/FewGLUE_v2/ReCoRD/\n",
      "writing /export/home/data/FewGLUE_v2/ReCoRD/train_4.jsonl\n",
      "writing /export/home/data/FewGLUE_v2/ReCoRD/train_8.jsonl\n",
      "writing /export/home/data/FewGLUE_v2/ReCoRD/train_16.jsonl\n",
      "writing /export/home/data/FewGLUE_v2/ReCoRD/train_32.jsonl\n",
      "/export/home/data/FewGLUE_v2/WSC/\n",
      "writing /export/home/data/FewGLUE_v2/WSC/train_4.jsonl\n",
      "writing /export/home/data/FewGLUE_v2/WSC/train_8.jsonl\n",
      "writing /export/home/data/FewGLUE_v2/WSC/train_16.jsonl\n",
      "writing /export/home/data/FewGLUE_v2/WSC/train_32.jsonl\n"
     ]
    }
   ],
   "source": [
    "for dr in listdir:\n",
    "    print(dr)\n",
    "    filename = os.path.join(dr, 'train.jsonl')\n",
    "    with open(filename, 'r') as f:\n",
    "        data = [json.loads(line) for line in f]\n",
    "    \n",
    "    fewshot = {}\n",
    "    for num in [4, 8, 16, 32]:\n",
    "        tmp = random.sample(data, num)\n",
    "        fewshot[num] = tmp\n",
    "    for k in fewshot:\n",
    "        savename = os.path.join(dr, f\"train_{k}.jsonl\")\n",
    "        print(f\"writing {savename}\")\n",
    "        with open(savename, 'w') as f:\n",
    "            for l in fewshot[k]:\n",
    "                json.dump(l, f)\n",
    "                f.write('\\n')\n",
    "#             json.dump(fewshot[k], f, sort_keys=True, indent=4)"
   ]
  },
  {
   "cell_type": "code",
   "execution_count": 13,
   "id": "1e241ceb",
   "metadata": {},
   "outputs": [
    {
     "data": {
      "text/plain": [
       "dict_keys([4, 8, 16, 32])"
      ]
     },
     "execution_count": 13,
     "metadata": {},
     "output_type": "execute_result"
    }
   ],
   "source": [
    "fewshot.keys()"
   ]
  },
  {
   "cell_type": "code",
   "execution_count": 14,
   "id": "7cf0d086",
   "metadata": {
    "scrolled": true
   },
   "outputs": [
    {
     "data": {
      "text/plain": [
       "[{'question': 'is ghost in the shell based on the anime',\n",
       "  'passage': \"Ghost in the Shell -- Animation studio Production I.G has produced several different anime adaptations of Ghost in the Shell, starting with the 1995 film of the same name, telling the story of Section 9's investigation of the Puppet Master. The television series Ghost in the Shell: Stand Alone Complex followed in 2002, telling an alternate story from the manga and first film, featuring Section 9's investigations of government corruption in the Laughing Man and Individual Eleven incidents. A sequel to the 1995 film, Ghost in the Shell 2: Innocence, was released in 2004. In 2006, the film Ghost in the Shell: Stand Alone Complex - Solid State Society retook the story of the television series. 2013 saw the start of the Ghost in the Shell: Arise original video animation (OVA) series, consisting of four parts through mid-2014. The series was recompiled in early 2015 as a television series titled Ghost in the Shell: Arise - Alternative Architecture, airing with an additional two episodes (one part). An animated feature film produced by most of the Arise staff, titled Ghost in the Shell: The New Movie, was released on June 20, 2015. A live-action American film of the same name was released on March 31, 2017.\",\n",
       "  'idx': 7457,\n",
       "  'label': False},\n",
       " {'question': 'is the show jessie filmed in new york',\n",
       "  'passage': \"Jessie (2011 TV series) -- After casting was finalized and changes were made to several of the characters to suit the actors chosen, the series skipped the pilot phase and was put directly into production. Filming began in June 2011 on Stage 3/8 at Hollywood Center Studios which, prior to start of production, served as the sound stage where the Disney Channel series Wizards of Waverly Place was taped. 13 episodes were originally ordered for the first season, but while the show's first season was in production, Disney Channel ordered an additional seven episodes, bringing the total number of episodes for the first season to 20. When asked about the atmosphere on set during an interview with MSN TV, Ryan described her relationship with the young cast: ``I definitely feel like a nanny! They are smart kids, but they're real kids. They like to have fun. My policy is: We can play hard, as long as we work hard, and because we work hard, we need to play hard.'' Filming on the series wrapped on February 22, 2015.\",\n",
       "  'idx': 5786,\n",
       "  'label': False},\n",
       " {'question': 'is northwest florida state college a 4 year college',\n",
       "  'passage': 'Northwest Florida State College -- The school voted to change its name to Okaloosa-Walton Community College in 1988, and gained four-year status in 2003, thus changing its name to Okaloosa-Walton College.',\n",
       "  'idx': 2747,\n",
       "  'label': True},\n",
       " {'label': True,\n",
       "  'question': 'does patrick wilson sing in phantom of the opera',\n",
       "  'idx': 2307,\n",
       "  'passage': \"The Phantom of the Opera (2004 film) -- Katie Holmes, who began working with a vocal coach, was the front-runner for Christine Daaé in March 2003. She was later replaced by Anne Hathaway, a classically trained soprano, in 2004. However, Hathaway dropped out of the role because the production schedule of the film overlapped with The Princess Diaries 2: Royal Engagement, which she was contractually obligated to make. Hathaway was then replaced with Emmy Rossum. The actress modeled the relationship between the Phantom and Christine after Suzanne Farrell and George Balanchine. Patrick Wilson was cast as Raoul based on his previous Broadway theatre career. For the role of Carlotta, Minnie Driver devised an over-the-top, camp performance as the egotistical prima donna. Despite also lacking singing experience, Ciarán Hinds was cast by Schumacher as Richard Firmin; the two had previously worked together on Veronica Guerin. Ramin Karimloo also briefly appears as the portrait of Gustave Daaé, Christine's father. Karimloo later played the Phantom as well as the role of Raoul on London's West End.\"}]"
      ]
     },
     "execution_count": 14,
     "metadata": {},
     "output_type": "execute_result"
    }
   ],
   "source": [
    "fewshot[4]"
   ]
  },
  {
   "cell_type": "code",
   "execution_count": 33,
   "id": "facd0996",
   "metadata": {
    "scrolled": true
   },
   "outputs": [
    {
     "ename": "JSONDecodeError",
     "evalue": "Extra data: line 2 column 1 (char 324)",
     "output_type": "error",
     "traceback": [
      "\u001b[0;31m---------------------------------------------------------------------------\u001b[0m",
      "\u001b[0;31mJSONDecodeError\u001b[0m                           Traceback (most recent call last)",
      "\u001b[0;32m/tmp/ipykernel_1397133/2819968336.py\u001b[0m in \u001b[0;36m<module>\u001b[0;34m\u001b[0m\n\u001b[0;32m----> 1\u001b[0;31m \u001b[0mjsonfile\u001b[0m \u001b[0;34m=\u001b[0m \u001b[0mjson\u001b[0m\u001b[0;34m.\u001b[0m\u001b[0mload\u001b[0m\u001b[0;34m(\u001b[0m\u001b[0mopen\u001b[0m\u001b[0;34m(\u001b[0m\u001b[0;34m'/export/home/data/FewGLUE_v2/BoolQ/train_4.jsonl'\u001b[0m\u001b[0;34m,\u001b[0m \u001b[0;34m'r'\u001b[0m\u001b[0;34m)\u001b[0m\u001b[0;34m)\u001b[0m\u001b[0;34m\u001b[0m\u001b[0;34m\u001b[0m\u001b[0m\n\u001b[0m",
      "\u001b[0;32m/opt/conda/lib/python3.7/json/__init__.py\u001b[0m in \u001b[0;36mload\u001b[0;34m(fp, cls, object_hook, parse_float, parse_int, parse_constant, object_pairs_hook, **kw)\u001b[0m\n\u001b[1;32m    294\u001b[0m         \u001b[0mcls\u001b[0m\u001b[0;34m=\u001b[0m\u001b[0mcls\u001b[0m\u001b[0;34m,\u001b[0m \u001b[0mobject_hook\u001b[0m\u001b[0;34m=\u001b[0m\u001b[0mobject_hook\u001b[0m\u001b[0;34m,\u001b[0m\u001b[0;34m\u001b[0m\u001b[0;34m\u001b[0m\u001b[0m\n\u001b[1;32m    295\u001b[0m         \u001b[0mparse_float\u001b[0m\u001b[0;34m=\u001b[0m\u001b[0mparse_float\u001b[0m\u001b[0;34m,\u001b[0m \u001b[0mparse_int\u001b[0m\u001b[0;34m=\u001b[0m\u001b[0mparse_int\u001b[0m\u001b[0;34m,\u001b[0m\u001b[0;34m\u001b[0m\u001b[0;34m\u001b[0m\u001b[0m\n\u001b[0;32m--> 296\u001b[0;31m         parse_constant=parse_constant, object_pairs_hook=object_pairs_hook, **kw)\n\u001b[0m\u001b[1;32m    297\u001b[0m \u001b[0;34m\u001b[0m\u001b[0m\n\u001b[1;32m    298\u001b[0m \u001b[0;34m\u001b[0m\u001b[0m\n",
      "\u001b[0;32m/opt/conda/lib/python3.7/json/__init__.py\u001b[0m in \u001b[0;36mloads\u001b[0;34m(s, encoding, cls, object_hook, parse_float, parse_int, parse_constant, object_pairs_hook, **kw)\u001b[0m\n\u001b[1;32m    346\u001b[0m             \u001b[0mparse_int\u001b[0m \u001b[0;32mis\u001b[0m \u001b[0;32mNone\u001b[0m \u001b[0;32mand\u001b[0m \u001b[0mparse_float\u001b[0m \u001b[0;32mis\u001b[0m \u001b[0;32mNone\u001b[0m \u001b[0;32mand\u001b[0m\u001b[0;34m\u001b[0m\u001b[0;34m\u001b[0m\u001b[0m\n\u001b[1;32m    347\u001b[0m             parse_constant is None and object_pairs_hook is None and not kw):\n\u001b[0;32m--> 348\u001b[0;31m         \u001b[0;32mreturn\u001b[0m \u001b[0m_default_decoder\u001b[0m\u001b[0;34m.\u001b[0m\u001b[0mdecode\u001b[0m\u001b[0;34m(\u001b[0m\u001b[0ms\u001b[0m\u001b[0;34m)\u001b[0m\u001b[0;34m\u001b[0m\u001b[0;34m\u001b[0m\u001b[0m\n\u001b[0m\u001b[1;32m    349\u001b[0m     \u001b[0;32mif\u001b[0m \u001b[0mcls\u001b[0m \u001b[0;32mis\u001b[0m \u001b[0;32mNone\u001b[0m\u001b[0;34m:\u001b[0m\u001b[0;34m\u001b[0m\u001b[0;34m\u001b[0m\u001b[0m\n\u001b[1;32m    350\u001b[0m         \u001b[0mcls\u001b[0m \u001b[0;34m=\u001b[0m \u001b[0mJSONDecoder\u001b[0m\u001b[0;34m\u001b[0m\u001b[0;34m\u001b[0m\u001b[0m\n",
      "\u001b[0;32m/opt/conda/lib/python3.7/json/decoder.py\u001b[0m in \u001b[0;36mdecode\u001b[0;34m(self, s, _w)\u001b[0m\n\u001b[1;32m    338\u001b[0m         \u001b[0mend\u001b[0m \u001b[0;34m=\u001b[0m \u001b[0m_w\u001b[0m\u001b[0;34m(\u001b[0m\u001b[0ms\u001b[0m\u001b[0;34m,\u001b[0m \u001b[0mend\u001b[0m\u001b[0;34m)\u001b[0m\u001b[0;34m.\u001b[0m\u001b[0mend\u001b[0m\u001b[0;34m(\u001b[0m\u001b[0;34m)\u001b[0m\u001b[0;34m\u001b[0m\u001b[0;34m\u001b[0m\u001b[0m\n\u001b[1;32m    339\u001b[0m         \u001b[0;32mif\u001b[0m \u001b[0mend\u001b[0m \u001b[0;34m!=\u001b[0m \u001b[0mlen\u001b[0m\u001b[0;34m(\u001b[0m\u001b[0ms\u001b[0m\u001b[0;34m)\u001b[0m\u001b[0;34m:\u001b[0m\u001b[0;34m\u001b[0m\u001b[0;34m\u001b[0m\u001b[0m\n\u001b[0;32m--> 340\u001b[0;31m             \u001b[0;32mraise\u001b[0m \u001b[0mJSONDecodeError\u001b[0m\u001b[0;34m(\u001b[0m\u001b[0;34m\"Extra data\"\u001b[0m\u001b[0;34m,\u001b[0m \u001b[0ms\u001b[0m\u001b[0;34m,\u001b[0m \u001b[0mend\u001b[0m\u001b[0;34m)\u001b[0m\u001b[0;34m\u001b[0m\u001b[0;34m\u001b[0m\u001b[0m\n\u001b[0m\u001b[1;32m    341\u001b[0m         \u001b[0;32mreturn\u001b[0m \u001b[0mobj\u001b[0m\u001b[0;34m\u001b[0m\u001b[0;34m\u001b[0m\u001b[0m\n\u001b[1;32m    342\u001b[0m \u001b[0;34m\u001b[0m\u001b[0m\n",
      "\u001b[0;31mJSONDecodeError\u001b[0m: Extra data: line 2 column 1 (char 324)"
     ]
    }
   ],
   "source": [
    "jsonfile = json.load(open('/export/home/data/FewGLUE_v2/BoolQ/train_4.jsonl', 'r'))"
   ]
  },
  {
   "cell_type": "code",
   "execution_count": 26,
   "id": "c41056a2",
   "metadata": {},
   "outputs": [
    {
     "data": {
      "text/plain": [
       "{'idx': 1968,\n",
       " 'label': False,\n",
       " 'passage': \"Once Upon a Time (season 7) -- The storyline was softly rebooted with a main narrative led by an adult Henry Mills, set several years after last season's events. In February 2018, it was announced the seventh season would serve as the final season of the series; the season and series concluded on May 18, 2018.\",\n",
       " 'question': 'is there a season 9 of once upon a time'}"
      ]
     },
     "execution_count": 26,
     "metadata": {},
     "output_type": "execute_result"
    }
   ],
   "source": [
    "jsonfile[0]"
   ]
  },
  {
   "cell_type": "code",
   "execution_count": 27,
   "id": "c7511440",
   "metadata": {},
   "outputs": [],
   "source": [
    "with open('output.jsonl', 'w') as outfile:\n",
    "    for entry in jsonfile:\n",
    "        json.dump(entry, outfile)\n",
    "        outfile.write('\\n')"
   ]
  },
  {
   "cell_type": "code",
   "execution_count": 34,
   "id": "ee129229",
   "metadata": {},
   "outputs": [],
   "source": [
    "with open('/export/home/data/FewGLUE_v2/BoolQ/train_4.jsonl', 'r') as f:\n",
    "    data = [json.loads(l) for l in f]"
   ]
  },
  {
   "cell_type": "code",
   "execution_count": 35,
   "id": "400764d9",
   "metadata": {},
   "outputs": [
    {
     "data": {
      "text/plain": [
       "[{'label': True,\n",
       "  'question': 'was this the final season of code black',\n",
       "  'idx': 3704,\n",
       "  'passage': 'Code Black (TV series) -- On May 14, 2017, the series was renewed for a third season, which premiered on April 25, 2018. On May 24, 2018, CBS cancelled the series after three seasons. The series finale aired on July 18, 2018.'},\n",
       " {'label': False,\n",
       "  'question': 'are you allowed to have your cell phone in jail',\n",
       "  'idx': 6483,\n",
       "  'passage': 'Mobile phones in prison -- In most prisons, inmates are forbidden from possessing mobile phones due to their ability to communicate with the outside world and other security issues. Mobile phones are one of the most smuggled items into prisons. They provide inmates the ability to make and receive unauthorized phone calls, send email and text messages, use social media, and follow news pertaining to their case, among other forbidden uses.'},\n",
       " {'question': 'are grey and red squirrels the same species',\n",
       "  'passage': 'Red squirrel -- The eastern grey squirrel and the red squirrel are not directly antagonistic, and violent conflict between these species is not a factor in the decline in red squirrel populations. However, the eastern grey squirrel appears to be able to decrease the red squirrel population due to several reasons:',\n",
       "  'idx': 2098,\n",
       "  'label': False},\n",
       " {'question': 'is this the last season of gsme of thrones',\n",
       "  'passage': \"Game of Thrones -- Game of Thrones is an American fantasy drama television series created by David Benioff and D.B. Weiss. It is an adaptation of A Song of Ice and Fire, George R.R. Martin's series of fantasy novels, the first of which is A Game of Thrones. It is filmed in Belfast and elsewhere in the United Kingdom, Canada, Croatia, Iceland, Malta, Morocco, Spain, and the United States. The series premiered on HBO in the United States on April 17, 2011, and its seventh season ended on August 27, 2017. The series will conclude with its eighth season premiering either in 2018 or 2019.\",\n",
       "  'idx': 4779,\n",
       "  'label': False}]"
      ]
     },
     "execution_count": 35,
     "metadata": {},
     "output_type": "execute_result"
    }
   ],
   "source": [
    "data"
   ]
  },
  {
   "cell_type": "code",
   "execution_count": null,
   "id": "bfc8ed0a",
   "metadata": {},
   "outputs": [],
   "source": []
  }
 ],
 "metadata": {
  "kernelspec": {
   "display_name": "Python 3 (ipykernel)",
   "language": "python",
   "name": "python3"
  },
  "language_info": {
   "codemirror_mode": {
    "name": "ipython",
    "version": 3
   },
   "file_extension": ".py",
   "mimetype": "text/x-python",
   "name": "python",
   "nbconvert_exporter": "python",
   "pygments_lexer": "ipython3",
   "version": "3.7.3"
  }
 },
 "nbformat": 4,
 "nbformat_minor": 5
}
